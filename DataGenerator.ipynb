{
 "cells": [
  {
   "cell_type": "code",
   "execution_count": 1,
   "metadata": {},
   "outputs": [],
   "source": [
    "import random\n",
    "from captcha.image import ImageCaptcha"
   ]
  },
  {
   "cell_type": "code",
   "execution_count": 2,
   "metadata": {},
   "outputs": [],
   "source": [
    "image = ImageCaptcha(fonts=['C:\\\\Windows\\\\Fonts\\\\DroidSansMono.ttf', \n",
    "                            'C:\\\\Windows\\\\Fonts\\\\segoeprb.ttf', \n",
    "                            'C:\\\\Windows\\\\Fonts\\\\segoepr.ttf',\n",
    "                            'C:\\\\Windows\\\\Fonts\\\\Gabriola.ttf', \n",
    "                            'C:\\\\Windows\\\\Fonts\\\\comic.ttf',\n",
    "                           'C:\\\\Windows\\\\Fonts\\\\comicbd.ttf',\n",
    "                           'C:\\\\Windows\\\\Fonts\\\\comicz.ttf',\n",
    "                            'C:\\\\Windows\\\\Fonts\\\\comici.ttf',\n",
    "                           'C:\\\\Windows\\\\Fonts\\\\ARCHRISTY.ttf',\n",
    "                           'C:\\\\Windows\\\\Fonts\\\\ARDECODE.ttf',\n",
    "                           'C:\\\\Windows\\\\Fonts\\\\ARDESTINE.ttf',\n",
    "                           'C:\\\\Windows\\\\Fonts\\\\ARBONNIE.ttf',\n",
    "                           'C:\\\\Windows\\\\Fonts\\\\ARBERKLEY.ttf',\n",
    "                           'C:\\\\Windows\\\\Fonts\\\\ARBLANCA.ttf',\n",
    "                           'C:\\\\Windows\\\\Fonts\\\\ARCARTER.ttf',\n",
    "                           'C:\\\\Windows\\\\Fonts\\\\ARCENA.ttf',\n",
    "                           'C:\\\\Windows\\\\Fonts\\\\ARDELANEY.ttf',\n",
    "                           'C:\\\\Windows\\\\Fonts\\\\ARHERMANN.ttf',\n",
    "                           ])"
   ]
  },
  {
   "cell_type": "code",
   "execution_count": 3,
   "metadata": {},
   "outputs": [],
   "source": [
    "charset = []\n",
    "for charval in range(97, 97 + 26):\n",
    "    charset.append(chr(charval))\n",
    "for digi in range(10):\n",
    "    charset.append(str(digi))\n",
    "# charset"
   ]
  },
  {
   "cell_type": "code",
   "execution_count": 4,
   "metadata": {},
   "outputs": [],
   "source": [
    "for di in range(50000):\n",
    "    strval = ''.join(random.choices(charset, k = 5))\n",
    "    data = image.generate(strval)\n",
    "    image.write(strval, 'CaptchaDataset\\\\' + strval + '.png')"
   ]
  },
  {
   "cell_type": "code",
   "execution_count": 25,
   "metadata": {},
   "outputs": [
    {
     "data": {
      "text/plain": [
       "97"
      ]
     },
     "execution_count": 25,
     "metadata": {},
     "output_type": "execute_result"
    }
   ],
   "source": []
  },
  {
   "cell_type": "code",
   "execution_count": null,
   "metadata": {},
   "outputs": [],
   "source": []
  }
 ],
 "metadata": {
  "kernelspec": {
   "display_name": "Python 3",
   "language": "python",
   "name": "python3"
  },
  "language_info": {
   "codemirror_mode": {
    "name": "ipython",
    "version": 3
   },
   "file_extension": ".py",
   "mimetype": "text/x-python",
   "name": "python",
   "nbconvert_exporter": "python",
   "pygments_lexer": "ipython3",
   "version": "3.7.3"
  }
 },
 "nbformat": 4,
 "nbformat_minor": 2
}
